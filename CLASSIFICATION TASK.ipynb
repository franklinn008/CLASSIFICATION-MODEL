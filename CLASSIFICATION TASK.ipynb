{
 "cells": [
  {
   "cell_type": "code",
   "execution_count": 1,
   "metadata": {},
   "outputs": [],
   "source": [
    "#!pip install tensorflow"
   ]
  },
  {
   "cell_type": "code",
   "execution_count": 2,
   "metadata": {},
   "outputs": [],
   "source": [
    "\n",
    "import numpy as np\n",
    "import pandas as pd\n",
    "import sklearn as sk\n",
    "import matplotlib.pyplot as plt\n",
    "import seaborn as sns\n",
    "import tensorflow as tf\n",
    "from sklearn.preprocessing import StandardScaler \n",
    "from sklearn.model_selection import train_test_split\n"
   ]
  },
  {
   "cell_type": "code",
   "execution_count": 3,
   "metadata": {},
   "outputs": [],
   "source": [
    "#CLASSIFICATION USING TWO DIFFERENT ALGORITHMS\n",
    "#importing and reading the dataset\n",
    "fnd = pd.read_csv(\"AuctionData.csv\")"
   ]
  },
  {
   "cell_type": "code",
   "execution_count": 4,
   "metadata": {},
   "outputs": [
    {
     "data": {
      "text/plain": [
       "(2043, 9)"
      ]
     },
     "execution_count": 4,
     "metadata": {},
     "output_type": "execute_result"
    }
   ],
   "source": [
    "#showing number of rows and columns\n",
    "fnd.shape"
   ]
  },
  {
   "cell_type": "code",
   "execution_count": 5,
   "metadata": {},
   "outputs": [
    {
     "data": {
      "text/html": [
       "<div>\n",
       "<style scoped>\n",
       "    .dataframe tbody tr th:only-of-type {\n",
       "        vertical-align: middle;\n",
       "    }\n",
       "\n",
       "    .dataframe tbody tr th {\n",
       "        vertical-align: top;\n",
       "    }\n",
       "\n",
       "    .dataframe thead th {\n",
       "        text-align: right;\n",
       "    }\n",
       "</style>\n",
       "<table border=\"1\" class=\"dataframe\">\n",
       "  <thead>\n",
       "    <tr style=\"text-align: right;\">\n",
       "      <th></th>\n",
       "      <th>process_b1_capacity</th>\n",
       "      <th>process_b2_capacity</th>\n",
       "      <th>process_b3_capacity</th>\n",
       "      <th>process_b4_capacity</th>\n",
       "      <th>property_price</th>\n",
       "      <th>property_product</th>\n",
       "      <th>property_winner</th>\n",
       "      <th>verification_result</th>\n",
       "      <th>verification_time</th>\n",
       "    </tr>\n",
       "  </thead>\n",
       "  <tbody>\n",
       "    <tr>\n",
       "      <th>0</th>\n",
       "      <td>0</td>\n",
       "      <td>0</td>\n",
       "      <td>2</td>\n",
       "      <td>1</td>\n",
       "      <td>59</td>\n",
       "      <td>1</td>\n",
       "      <td>0</td>\n",
       "      <td>False</td>\n",
       "      <td>163.316667</td>\n",
       "    </tr>\n",
       "    <tr>\n",
       "      <th>1</th>\n",
       "      <td>0</td>\n",
       "      <td>0</td>\n",
       "      <td>2</td>\n",
       "      <td>1</td>\n",
       "      <td>59</td>\n",
       "      <td>2</td>\n",
       "      <td>0</td>\n",
       "      <td>False</td>\n",
       "      <td>200.860000</td>\n",
       "    </tr>\n",
       "    <tr>\n",
       "      <th>2</th>\n",
       "      <td>0</td>\n",
       "      <td>0</td>\n",
       "      <td>2</td>\n",
       "      <td>1</td>\n",
       "      <td>59</td>\n",
       "      <td>4</td>\n",
       "      <td>0</td>\n",
       "      <td>False</td>\n",
       "      <td>154.888889</td>\n",
       "    </tr>\n",
       "    <tr>\n",
       "      <th>3</th>\n",
       "      <td>0</td>\n",
       "      <td>0</td>\n",
       "      <td>2</td>\n",
       "      <td>1</td>\n",
       "      <td>59</td>\n",
       "      <td>6</td>\n",
       "      <td>0</td>\n",
       "      <td>False</td>\n",
       "      <td>108.640000</td>\n",
       "    </tr>\n",
       "    <tr>\n",
       "      <th>4</th>\n",
       "      <td>0</td>\n",
       "      <td>0</td>\n",
       "      <td>2</td>\n",
       "      <td>1</td>\n",
       "      <td>60</td>\n",
       "      <td>1</td>\n",
       "      <td>0</td>\n",
       "      <td>True</td>\n",
       "      <td>85.466667</td>\n",
       "    </tr>\n",
       "  </tbody>\n",
       "</table>\n",
       "</div>"
      ],
      "text/plain": [
       "   process_b1_capacity  process_b2_capacity  process_b3_capacity  \\\n",
       "0                    0                    0                    2   \n",
       "1                    0                    0                    2   \n",
       "2                    0                    0                    2   \n",
       "3                    0                    0                    2   \n",
       "4                    0                    0                    2   \n",
       "\n",
       "   process_b4_capacity  property_price  property_product  property_winner  \\\n",
       "0                    1              59                 1                0   \n",
       "1                    1              59                 2                0   \n",
       "2                    1              59                 4                0   \n",
       "3                    1              59                 6                0   \n",
       "4                    1              60                 1                0   \n",
       "\n",
       "   verification_result  verification_time  \n",
       "0                False         163.316667  \n",
       "1                False         200.860000  \n",
       "2                False         154.888889  \n",
       "3                False         108.640000  \n",
       "4                 True          85.466667  "
      ]
     },
     "execution_count": 5,
     "metadata": {},
     "output_type": "execute_result"
    }
   ],
   "source": [
    "#to bring out the first five rows and column\n",
    "fnd.head()"
   ]
  },
  {
   "cell_type": "code",
   "execution_count": 6,
   "metadata": {},
   "outputs": [
    {
     "name": "stdout",
     "output_type": "stream",
     "text": [
      "<class 'pandas.core.frame.DataFrame'>\n",
      "RangeIndex: 2043 entries, 0 to 2042\n",
      "Data columns (total 9 columns):\n",
      " #   Column               Non-Null Count  Dtype  \n",
      "---  ------               --------------  -----  \n",
      " 0   process_b1_capacity  2043 non-null   int64  \n",
      " 1   process_b2_capacity  2043 non-null   int64  \n",
      " 2   process_b3_capacity  2043 non-null   int64  \n",
      " 3   process_b4_capacity  2043 non-null   int64  \n",
      " 4   property_price       2043 non-null   int64  \n",
      " 5   property_product     2043 non-null   int64  \n",
      " 6   property_winner      2043 non-null   int64  \n",
      " 7   verification_result  2043 non-null   bool   \n",
      " 8   verification_time    2043 non-null   float64\n",
      "dtypes: bool(1), float64(1), int64(7)\n",
      "memory usage: 129.8 KB\n"
     ]
    }
   ],
   "source": [
    "#to get information about the class and object of the dataset\n",
    "fnd.info()"
   ]
  },
  {
   "cell_type": "code",
   "execution_count": 7,
   "metadata": {},
   "outputs": [
    {
     "data": {
      "text/html": [
       "<div>\n",
       "<style scoped>\n",
       "    .dataframe tbody tr th:only-of-type {\n",
       "        vertical-align: middle;\n",
       "    }\n",
       "\n",
       "    .dataframe tbody tr th {\n",
       "        vertical-align: top;\n",
       "    }\n",
       "\n",
       "    .dataframe thead th {\n",
       "        text-align: right;\n",
       "    }\n",
       "</style>\n",
       "<table border=\"1\" class=\"dataframe\">\n",
       "  <thead>\n",
       "    <tr style=\"text-align: right;\">\n",
       "      <th></th>\n",
       "      <th>process_b1_capacity</th>\n",
       "      <th>process_b2_capacity</th>\n",
       "      <th>process_b3_capacity</th>\n",
       "      <th>process_b4_capacity</th>\n",
       "      <th>property_price</th>\n",
       "      <th>property_product</th>\n",
       "      <th>property_winner</th>\n",
       "      <th>verification_time</th>\n",
       "    </tr>\n",
       "  </thead>\n",
       "  <tbody>\n",
       "    <tr>\n",
       "      <th>count</th>\n",
       "      <td>2043.000000</td>\n",
       "      <td>2043.000000</td>\n",
       "      <td>2043.000000</td>\n",
       "      <td>2043.000000</td>\n",
       "      <td>2043.000000</td>\n",
       "      <td>2043.000000</td>\n",
       "      <td>2043.000000</td>\n",
       "      <td>2043.000000</td>\n",
       "    </tr>\n",
       "    <tr>\n",
       "      <th>mean</th>\n",
       "      <td>1.000000</td>\n",
       "      <td>2.093979</td>\n",
       "      <td>1.883994</td>\n",
       "      <td>0.587861</td>\n",
       "      <td>71.473324</td>\n",
       "      <td>3.252080</td>\n",
       "      <td>0.455213</td>\n",
       "      <td>7336.944574</td>\n",
       "    </tr>\n",
       "    <tr>\n",
       "      <th>std</th>\n",
       "      <td>0.816696</td>\n",
       "      <td>0.811269</td>\n",
       "      <td>0.320310</td>\n",
       "      <td>0.492340</td>\n",
       "      <td>8.048740</td>\n",
       "      <td>1.804225</td>\n",
       "      <td>1.062828</td>\n",
       "      <td>10375.393650</td>\n",
       "    </tr>\n",
       "    <tr>\n",
       "      <th>min</th>\n",
       "      <td>0.000000</td>\n",
       "      <td>0.000000</td>\n",
       "      <td>1.000000</td>\n",
       "      <td>0.000000</td>\n",
       "      <td>59.000000</td>\n",
       "      <td>1.000000</td>\n",
       "      <td>0.000000</td>\n",
       "      <td>77.916667</td>\n",
       "    </tr>\n",
       "    <tr>\n",
       "      <th>25%</th>\n",
       "      <td>0.000000</td>\n",
       "      <td>1.000000</td>\n",
       "      <td>2.000000</td>\n",
       "      <td>0.000000</td>\n",
       "      <td>65.000000</td>\n",
       "      <td>2.000000</td>\n",
       "      <td>0.000000</td>\n",
       "      <td>546.818910</td>\n",
       "    </tr>\n",
       "    <tr>\n",
       "      <th>50%</th>\n",
       "      <td>1.000000</td>\n",
       "      <td>2.000000</td>\n",
       "      <td>2.000000</td>\n",
       "      <td>1.000000</td>\n",
       "      <td>70.000000</td>\n",
       "      <td>3.000000</td>\n",
       "      <td>0.000000</td>\n",
       "      <td>1316.983333</td>\n",
       "    </tr>\n",
       "    <tr>\n",
       "      <th>75%</th>\n",
       "      <td>2.000000</td>\n",
       "      <td>3.000000</td>\n",
       "      <td>2.000000</td>\n",
       "      <td>1.000000</td>\n",
       "      <td>78.000000</td>\n",
       "      <td>5.000000</td>\n",
       "      <td>0.000000</td>\n",
       "      <td>10876.638890</td>\n",
       "    </tr>\n",
       "    <tr>\n",
       "      <th>max</th>\n",
       "      <td>2.000000</td>\n",
       "      <td>3.000000</td>\n",
       "      <td>2.000000</td>\n",
       "      <td>1.000000</td>\n",
       "      <td>90.000000</td>\n",
       "      <td>6.000000</td>\n",
       "      <td>4.000000</td>\n",
       "      <td>44130.520830</td>\n",
       "    </tr>\n",
       "  </tbody>\n",
       "</table>\n",
       "</div>"
      ],
      "text/plain": [
       "       process_b1_capacity  process_b2_capacity  process_b3_capacity  \\\n",
       "count          2043.000000          2043.000000          2043.000000   \n",
       "mean              1.000000             2.093979             1.883994   \n",
       "std               0.816696             0.811269             0.320310   \n",
       "min               0.000000             0.000000             1.000000   \n",
       "25%               0.000000             1.000000             2.000000   \n",
       "50%               1.000000             2.000000             2.000000   \n",
       "75%               2.000000             3.000000             2.000000   \n",
       "max               2.000000             3.000000             2.000000   \n",
       "\n",
       "       process_b4_capacity  property_price  property_product  property_winner  \\\n",
       "count          2043.000000     2043.000000       2043.000000      2043.000000   \n",
       "mean              0.587861       71.473324          3.252080         0.455213   \n",
       "std               0.492340        8.048740          1.804225         1.062828   \n",
       "min               0.000000       59.000000          1.000000         0.000000   \n",
       "25%               0.000000       65.000000          2.000000         0.000000   \n",
       "50%               1.000000       70.000000          3.000000         0.000000   \n",
       "75%               1.000000       78.000000          5.000000         0.000000   \n",
       "max               1.000000       90.000000          6.000000         4.000000   \n",
       "\n",
       "       verification_time  \n",
       "count        2043.000000  \n",
       "mean         7336.944574  \n",
       "std         10375.393650  \n",
       "min            77.916667  \n",
       "25%           546.818910  \n",
       "50%          1316.983333  \n",
       "75%         10876.638890  \n",
       "max         44130.520830  "
      ]
     },
     "execution_count": 7,
     "metadata": {},
     "output_type": "execute_result"
    }
   ],
   "source": [
    "#further dataset insight\n",
    "fnd.describe()"
   ]
  },
  {
   "cell_type": "code",
   "execution_count": 8,
   "metadata": {},
   "outputs": [
    {
     "data": {
      "text/html": [
       "<div>\n",
       "<style scoped>\n",
       "    .dataframe tbody tr th:only-of-type {\n",
       "        vertical-align: middle;\n",
       "    }\n",
       "\n",
       "    .dataframe tbody tr th {\n",
       "        vertical-align: top;\n",
       "    }\n",
       "\n",
       "    .dataframe thead th {\n",
       "        text-align: right;\n",
       "    }\n",
       "</style>\n",
       "<table border=\"1\" class=\"dataframe\">\n",
       "  <thead>\n",
       "    <tr style=\"text-align: right;\">\n",
       "      <th></th>\n",
       "      <th>process_b1_capacity</th>\n",
       "      <th>process_b2_capacity</th>\n",
       "      <th>process_b3_capacity</th>\n",
       "      <th>process_b4_capacity</th>\n",
       "      <th>property_price</th>\n",
       "      <th>property_product</th>\n",
       "      <th>property_winner</th>\n",
       "      <th>verification_result</th>\n",
       "      <th>verification_time</th>\n",
       "    </tr>\n",
       "  </thead>\n",
       "  <tbody>\n",
       "    <tr>\n",
       "      <th>count</th>\n",
       "      <td>2043.000000</td>\n",
       "      <td>2043.000000</td>\n",
       "      <td>2043.000000</td>\n",
       "      <td>2043.000000</td>\n",
       "      <td>2043.000000</td>\n",
       "      <td>2043.000000</td>\n",
       "      <td>2043.000000</td>\n",
       "      <td>2043</td>\n",
       "      <td>2043.000000</td>\n",
       "    </tr>\n",
       "    <tr>\n",
       "      <th>unique</th>\n",
       "      <td>NaN</td>\n",
       "      <td>NaN</td>\n",
       "      <td>NaN</td>\n",
       "      <td>NaN</td>\n",
       "      <td>NaN</td>\n",
       "      <td>NaN</td>\n",
       "      <td>NaN</td>\n",
       "      <td>2</td>\n",
       "      <td>NaN</td>\n",
       "    </tr>\n",
       "    <tr>\n",
       "      <th>top</th>\n",
       "      <td>NaN</td>\n",
       "      <td>NaN</td>\n",
       "      <td>NaN</td>\n",
       "      <td>NaN</td>\n",
       "      <td>NaN</td>\n",
       "      <td>NaN</td>\n",
       "      <td>NaN</td>\n",
       "      <td>False</td>\n",
       "      <td>NaN</td>\n",
       "    </tr>\n",
       "    <tr>\n",
       "      <th>freq</th>\n",
       "      <td>NaN</td>\n",
       "      <td>NaN</td>\n",
       "      <td>NaN</td>\n",
       "      <td>NaN</td>\n",
       "      <td>NaN</td>\n",
       "      <td>NaN</td>\n",
       "      <td>NaN</td>\n",
       "      <td>1781</td>\n",
       "      <td>NaN</td>\n",
       "    </tr>\n",
       "    <tr>\n",
       "      <th>mean</th>\n",
       "      <td>1.000000</td>\n",
       "      <td>2.093979</td>\n",
       "      <td>1.883994</td>\n",
       "      <td>0.587861</td>\n",
       "      <td>71.473324</td>\n",
       "      <td>3.252080</td>\n",
       "      <td>0.455213</td>\n",
       "      <td>NaN</td>\n",
       "      <td>7336.944574</td>\n",
       "    </tr>\n",
       "    <tr>\n",
       "      <th>std</th>\n",
       "      <td>0.816696</td>\n",
       "      <td>0.811269</td>\n",
       "      <td>0.320310</td>\n",
       "      <td>0.492340</td>\n",
       "      <td>8.048740</td>\n",
       "      <td>1.804225</td>\n",
       "      <td>1.062828</td>\n",
       "      <td>NaN</td>\n",
       "      <td>10375.393650</td>\n",
       "    </tr>\n",
       "    <tr>\n",
       "      <th>min</th>\n",
       "      <td>0.000000</td>\n",
       "      <td>0.000000</td>\n",
       "      <td>1.000000</td>\n",
       "      <td>0.000000</td>\n",
       "      <td>59.000000</td>\n",
       "      <td>1.000000</td>\n",
       "      <td>0.000000</td>\n",
       "      <td>NaN</td>\n",
       "      <td>77.916667</td>\n",
       "    </tr>\n",
       "    <tr>\n",
       "      <th>25%</th>\n",
       "      <td>0.000000</td>\n",
       "      <td>1.000000</td>\n",
       "      <td>2.000000</td>\n",
       "      <td>0.000000</td>\n",
       "      <td>65.000000</td>\n",
       "      <td>2.000000</td>\n",
       "      <td>0.000000</td>\n",
       "      <td>NaN</td>\n",
       "      <td>546.818910</td>\n",
       "    </tr>\n",
       "    <tr>\n",
       "      <th>50%</th>\n",
       "      <td>1.000000</td>\n",
       "      <td>2.000000</td>\n",
       "      <td>2.000000</td>\n",
       "      <td>1.000000</td>\n",
       "      <td>70.000000</td>\n",
       "      <td>3.000000</td>\n",
       "      <td>0.000000</td>\n",
       "      <td>NaN</td>\n",
       "      <td>1316.983333</td>\n",
       "    </tr>\n",
       "    <tr>\n",
       "      <th>75%</th>\n",
       "      <td>2.000000</td>\n",
       "      <td>3.000000</td>\n",
       "      <td>2.000000</td>\n",
       "      <td>1.000000</td>\n",
       "      <td>78.000000</td>\n",
       "      <td>5.000000</td>\n",
       "      <td>0.000000</td>\n",
       "      <td>NaN</td>\n",
       "      <td>10876.638890</td>\n",
       "    </tr>\n",
       "    <tr>\n",
       "      <th>max</th>\n",
       "      <td>2.000000</td>\n",
       "      <td>3.000000</td>\n",
       "      <td>2.000000</td>\n",
       "      <td>1.000000</td>\n",
       "      <td>90.000000</td>\n",
       "      <td>6.000000</td>\n",
       "      <td>4.000000</td>\n",
       "      <td>NaN</td>\n",
       "      <td>44130.520830</td>\n",
       "    </tr>\n",
       "  </tbody>\n",
       "</table>\n",
       "</div>"
      ],
      "text/plain": [
       "        process_b1_capacity  process_b2_capacity  process_b3_capacity  \\\n",
       "count           2043.000000          2043.000000          2043.000000   \n",
       "unique                  NaN                  NaN                  NaN   \n",
       "top                     NaN                  NaN                  NaN   \n",
       "freq                    NaN                  NaN                  NaN   \n",
       "mean               1.000000             2.093979             1.883994   \n",
       "std                0.816696             0.811269             0.320310   \n",
       "min                0.000000             0.000000             1.000000   \n",
       "25%                0.000000             1.000000             2.000000   \n",
       "50%                1.000000             2.000000             2.000000   \n",
       "75%                2.000000             3.000000             2.000000   \n",
       "max                2.000000             3.000000             2.000000   \n",
       "\n",
       "        process_b4_capacity  property_price  property_product  \\\n",
       "count           2043.000000     2043.000000       2043.000000   \n",
       "unique                  NaN             NaN               NaN   \n",
       "top                     NaN             NaN               NaN   \n",
       "freq                    NaN             NaN               NaN   \n",
       "mean               0.587861       71.473324          3.252080   \n",
       "std                0.492340        8.048740          1.804225   \n",
       "min                0.000000       59.000000          1.000000   \n",
       "25%                0.000000       65.000000          2.000000   \n",
       "50%                1.000000       70.000000          3.000000   \n",
       "75%                1.000000       78.000000          5.000000   \n",
       "max                1.000000       90.000000          6.000000   \n",
       "\n",
       "        property_winner verification_result  verification_time  \n",
       "count       2043.000000                2043        2043.000000  \n",
       "unique              NaN                   2                NaN  \n",
       "top                 NaN               False                NaN  \n",
       "freq                NaN                1781                NaN  \n",
       "mean           0.455213                 NaN        7336.944574  \n",
       "std            1.062828                 NaN       10375.393650  \n",
       "min            0.000000                 NaN          77.916667  \n",
       "25%            0.000000                 NaN         546.818910  \n",
       "50%            0.000000                 NaN        1316.983333  \n",
       "75%            0.000000                 NaN       10876.638890  \n",
       "max            4.000000                 NaN       44130.520830  "
      ]
     },
     "execution_count": 8,
     "metadata": {},
     "output_type": "execute_result"
    }
   ],
   "source": [
    "fnd.describe(include='all')"
   ]
  },
  {
   "cell_type": "code",
   "execution_count": 9,
   "metadata": {},
   "outputs": [
    {
     "data": {
      "image/png": "[encoded data removed]",
      "text/plain": [
       "<Figure size 720x432 with 1 Axes>"
      ]
     },
     "metadata": {
      "needs_background": "light"
     },
     "output_type": "display_data"
    }
   ],
   "source": [
    "#exploring the distribution of the dataset using histogram\n",
    "plt.figure(figsize =(10,6))\n",
    "sns.histplot(fnd.property_price)\n",
    "plt.title('winners from the auction')\n",
    "plt.show()"
   ]
  },
  {
   "cell_type": "code",
   "execution_count": 10,
   "metadata": {},
   "outputs": [
    {
     "data": {
      "image/png": "[encoded data removed]",
      "text/plain": [
       "<Figure size 720x432 with 1 Axes>"
      ]
     },
     "metadata": {
      "needs_background": "light"
     },
     "output_type": "display_data"
    }
   ],
   "source": [
    "#checking the distribution of verification based on property price\n",
    "plt.figure(figsize =(10,6))\n",
    "sns.histplot(x ='property_price', hue = \"verification_result\", data = fnd)\n",
    "plt.title('Verified Properties')\n",
    "plt.show()"
   ]
  },
  {
   "cell_type": "code",
   "execution_count": 11,
   "metadata": {},
   "outputs": [
    {
     "data": {
      "text/plain": [
       "array([False,  True])"
      ]
     },
     "execution_count": 11,
     "metadata": {},
     "output_type": "execute_result"
    }
   ],
   "source": [
    "#from the output verification_result is a categorical value, here we encode to numerical value\n",
    "#first we get the unique value of the column\n",
    "fnd.verification_result.unique()"
   ]
  },
  {
   "cell_type": "code",
   "execution_count": 12,
   "metadata": {},
   "outputs": [],
   "source": [
    "#encoding the column to numerical\n",
    "fnd['verification_result']=fnd['verification_result'].replace([False, True],[0,1])"
   ]
  },
  {
   "cell_type": "code",
   "execution_count": 13,
   "metadata": {},
   "outputs": [
    {
     "data": {
      "text/html": [
       "<div>\n",
       "<style scoped>\n",
       "    .dataframe tbody tr th:only-of-type {\n",
       "        vertical-align: middle;\n",
       "    }\n",
       "\n",
       "    .dataframe tbody tr th {\n",
       "        vertical-align: top;\n",
       "    }\n",
       "\n",
       "    .dataframe thead th {\n",
       "        text-align: right;\n",
       "    }\n",
       "</style>\n",
       "<table border=\"1\" class=\"dataframe\">\n",
       "  <thead>\n",
       "    <tr style=\"text-align: right;\">\n",
       "      <th></th>\n",
       "      <th>process_b1_capacity</th>\n",
       "      <th>process_b2_capacity</th>\n",
       "      <th>process_b3_capacity</th>\n",
       "      <th>process_b4_capacity</th>\n",
       "      <th>property_price</th>\n",
       "      <th>property_product</th>\n",
       "      <th>property_winner</th>\n",
       "      <th>verification_result</th>\n",
       "      <th>verification_time</th>\n",
       "    </tr>\n",
       "  </thead>\n",
       "  <tbody>\n",
       "    <tr>\n",
       "      <th>0</th>\n",
       "      <td>0</td>\n",
       "      <td>0</td>\n",
       "      <td>2</td>\n",
       "      <td>1</td>\n",
       "      <td>59</td>\n",
       "      <td>1</td>\n",
       "      <td>0</td>\n",
       "      <td>0</td>\n",
       "      <td>163.316667</td>\n",
       "    </tr>\n",
       "    <tr>\n",
       "      <th>1</th>\n",
       "      <td>0</td>\n",
       "      <td>0</td>\n",
       "      <td>2</td>\n",
       "      <td>1</td>\n",
       "      <td>59</td>\n",
       "      <td>2</td>\n",
       "      <td>0</td>\n",
       "      <td>0</td>\n",
       "      <td>200.860000</td>\n",
       "    </tr>\n",
       "    <tr>\n",
       "      <th>2</th>\n",
       "      <td>0</td>\n",
       "      <td>0</td>\n",
       "      <td>2</td>\n",
       "      <td>1</td>\n",
       "      <td>59</td>\n",
       "      <td>4</td>\n",
       "      <td>0</td>\n",
       "      <td>0</td>\n",
       "      <td>154.888889</td>\n",
       "    </tr>\n",
       "    <tr>\n",
       "      <th>3</th>\n",
       "      <td>0</td>\n",
       "      <td>0</td>\n",
       "      <td>2</td>\n",
       "      <td>1</td>\n",
       "      <td>59</td>\n",
       "      <td>6</td>\n",
       "      <td>0</td>\n",
       "      <td>0</td>\n",
       "      <td>108.640000</td>\n",
       "    </tr>\n",
       "    <tr>\n",
       "      <th>4</th>\n",
       "      <td>0</td>\n",
       "      <td>0</td>\n",
       "      <td>2</td>\n",
       "      <td>1</td>\n",
       "      <td>60</td>\n",
       "      <td>1</td>\n",
       "      <td>0</td>\n",
       "      <td>1</td>\n",
       "      <td>85.466667</td>\n",
       "    </tr>\n",
       "  </tbody>\n",
       "</table>\n",
       "</div>"
      ],
      "text/plain": [
       "   process_b1_capacity  process_b2_capacity  process_b3_capacity  \\\n",
       "0                    0                    0                    2   \n",
       "1                    0                    0                    2   \n",
       "2                    0                    0                    2   \n",
       "3                    0                    0                    2   \n",
       "4                    0                    0                    2   \n",
       "\n",
       "   process_b4_capacity  property_price  property_product  property_winner  \\\n",
       "0                    1              59                 1                0   \n",
       "1                    1              59                 2                0   \n",
       "2                    1              59                 4                0   \n",
       "3                    1              59                 6                0   \n",
       "4                    1              60                 1                0   \n",
       "\n",
       "   verification_result  verification_time  \n",
       "0                    0         163.316667  \n",
       "1                    0         200.860000  \n",
       "2                    0         154.888889  \n",
       "3                    0         108.640000  \n",
       "4                    1          85.466667  "
      ]
     },
     "execution_count": 13,
     "metadata": {},
     "output_type": "execute_result"
    }
   ],
   "source": [
    "#checking if changes was applied to the dataset\n",
    "fnd.head()"
   ]
  },
  {
   "cell_type": "code",
   "execution_count": 14,
   "metadata": {},
   "outputs": [
    {
     "data": {
      "text/html": [
       "<div>\n",
       "<style scoped>\n",
       "    .dataframe tbody tr th:only-of-type {\n",
       "        vertical-align: middle;\n",
       "    }\n",
       "\n",
       "    .dataframe tbody tr th {\n",
       "        vertical-align: top;\n",
       "    }\n",
       "\n",
       "    .dataframe thead th {\n",
       "        text-align: right;\n",
       "    }\n",
       "</style>\n",
       "<table border=\"1\" class=\"dataframe\">\n",
       "  <thead>\n",
       "    <tr style=\"text-align: right;\">\n",
       "      <th></th>\n",
       "      <th>process_b1_capacity</th>\n",
       "      <th>process_b2_capacity</th>\n",
       "      <th>process_b3_capacity</th>\n",
       "      <th>process_b4_capacity</th>\n",
       "      <th>property_price</th>\n",
       "      <th>property_product</th>\n",
       "      <th>property_winner</th>\n",
       "      <th>verification_result</th>\n",
       "      <th>verification_time</th>\n",
       "    </tr>\n",
       "  </thead>\n",
       "  <tbody>\n",
       "    <tr>\n",
       "      <th>2038</th>\n",
       "      <td>2</td>\n",
       "      <td>3</td>\n",
       "      <td>2</td>\n",
       "      <td>1</td>\n",
       "      <td>90</td>\n",
       "      <td>5</td>\n",
       "      <td>0</td>\n",
       "      <td>1</td>\n",
       "      <td>82.425000</td>\n",
       "    </tr>\n",
       "    <tr>\n",
       "      <th>2039</th>\n",
       "      <td>2</td>\n",
       "      <td>3</td>\n",
       "      <td>2</td>\n",
       "      <td>1</td>\n",
       "      <td>90</td>\n",
       "      <td>5</td>\n",
       "      <td>1</td>\n",
       "      <td>1</td>\n",
       "      <td>1316.983333</td>\n",
       "    </tr>\n",
       "    <tr>\n",
       "      <th>2040</th>\n",
       "      <td>2</td>\n",
       "      <td>3</td>\n",
       "      <td>2</td>\n",
       "      <td>1</td>\n",
       "      <td>90</td>\n",
       "      <td>5</td>\n",
       "      <td>2</td>\n",
       "      <td>0</td>\n",
       "      <td>9365.450000</td>\n",
       "    </tr>\n",
       "    <tr>\n",
       "      <th>2041</th>\n",
       "      <td>2</td>\n",
       "      <td>3</td>\n",
       "      <td>2</td>\n",
       "      <td>1</td>\n",
       "      <td>90</td>\n",
       "      <td>5</td>\n",
       "      <td>3</td>\n",
       "      <td>0</td>\n",
       "      <td>8474.025000</td>\n",
       "    </tr>\n",
       "    <tr>\n",
       "      <th>2042</th>\n",
       "      <td>2</td>\n",
       "      <td>3</td>\n",
       "      <td>2</td>\n",
       "      <td>1</td>\n",
       "      <td>90</td>\n",
       "      <td>5</td>\n",
       "      <td>4</td>\n",
       "      <td>1</td>\n",
       "      <td>82.008333</td>\n",
       "    </tr>\n",
       "  </tbody>\n",
       "</table>\n",
       "</div>"
      ],
      "text/plain": [
       "      process_b1_capacity  process_b2_capacity  process_b3_capacity  \\\n",
       "2038                    2                    3                    2   \n",
       "2039                    2                    3                    2   \n",
       "2040                    2                    3                    2   \n",
       "2041                    2                    3                    2   \n",
       "2042                    2                    3                    2   \n",
       "\n",
       "      process_b4_capacity  property_price  property_product  property_winner  \\\n",
       "2038                    1              90                 5                0   \n",
       "2039                    1              90                 5                1   \n",
       "2040                    1              90                 5                2   \n",
       "2041                    1              90                 5                3   \n",
       "2042                    1              90                 5                4   \n",
       "\n",
       "      verification_result  verification_time  \n",
       "2038                    1          82.425000  \n",
       "2039                    1        1316.983333  \n",
       "2040                    0        9365.450000  \n",
       "2041                    0        8474.025000  \n",
       "2042                    1          82.008333  "
      ]
     },
     "execution_count": 14,
     "metadata": {},
     "output_type": "execute_result"
    }
   ],
   "source": [
    "fnd.tail()"
   ]
  },
  {
   "cell_type": "code",
   "execution_count": 15,
   "metadata": {},
   "outputs": [],
   "source": [
    "#CLASSIFICATION\n",
    "#here verification_result is as a categorical data is our dependent variable/column\n",
    "#I want to predict the class outcome/output based on the remaining independent variables/columns\n",
    "#I want to know the degree of verification level based on the 5 input columns\n",
    "#X = fnd.iloc[:,[0,1,2,3,4,5,6]].values\n",
    "#y = fnd.iloc[:,7].values"
   ]
  },
  {
   "cell_type": "code",
   "execution_count": 16,
   "metadata": {},
   "outputs": [],
   "source": [
    "#here the data was separated into training and test data using train_test_split\n",
    "from sklearn.model_selection import train_test_split\n",
    "X = fnd.drop('verification_result',axis=1)\n",
    "y = fnd['verification_result']\n",
    "X_train,X_test,y_train,y_test=train_test_split(X,y,test_size = 0.3,random_state = 0)"
   ]
  },
  {
   "cell_type": "code",
   "execution_count": 17,
   "metadata": {},
   "outputs": [],
   "source": [
    "#scaling of the training data and fitting it for transformation\n",
    "from sklearn.preprocessing import StandardScaler\n",
    "sc=StandardScaler()\n",
    "X_train_s=sc.fit_transform(X_train)\n",
    "X_test_s=sc.transform(X_test)"
   ]
  },
  {
   "cell_type": "code",
   "execution_count": 18,
   "metadata": {},
   "outputs": [
    {
     "data": {
      "text/html": [
       "<style>#sk-container-id-1 {color: black;background-color: white;}#sk-container-id-1 pre{padding: 0;}#sk-container-id-1 div.sk-toggleable {background-color: white;}#sk-container-id-1 label.sk-toggleable__label {cursor: pointer;display: block;width: 100%;margin-bottom: 0;padding: 0.3em;box-sizing: border-box;text-align: center;}#sk-container-id-1 label.sk-toggleable__label-arrow:before {content: \"▸\";float: left;margin-right: 0.25em;color: #696969;}#sk-container-id-1 label.sk-toggleable__label-arrow:hover:before {color: black;}#sk-container-id-1 div.sk-estimator:hover label.sk-toggleable__label-arrow:before {color: black;}#sk-container-id-1 div.sk-toggleable__content {max-height: 0;max-width: 0;overflow: hidden;text-align: left;background-color: #f0f8ff;}#sk-container-id-1 div.sk-toggleable__content pre {margin: 0.2em;color: black;border-radius: 0.25em;background-color: #f0f8ff;}#sk-container-id-1 input.sk-toggleable__control:checked~div.sk-toggleable__content {max-height: 200px;max-width: 100%;overflow: auto;}#sk-container-id-1 input.sk-toggleable__control:checked~label.sk-toggleable__label-arrow:before {content: \"▾\";}#sk-container-id-1 div.sk-estimator input.sk-toggleable__control:checked~label.sk-toggleable__label {background-color: #d4ebff;}#sk-container-id-1 div.sk-label input.sk-toggleable__control:checked~label.sk-toggleable__label {background-color: #d4ebff;}#sk-container-id-1 input.sk-hidden--visually {border: 0;clip: rect(1px 1px 1px 1px);clip: rect(1px, 1px, 1px, 1px);height: 1px;margin: -1px;overflow: hidden;padding: 0;position: absolute;width: 1px;}#sk-container-id-1 div.sk-estimator {font-family: monospace;background-color: #f0f8ff;border: 1px dotted black;border-radius: 0.25em;box-sizing: border-box;margin-bottom: 0.5em;}#sk-container-id-1 div.sk-estimator:hover {background-color: #d4ebff;}#sk-container-id-1 div.sk-parallel-item::after {content: \"\";width: 100%;border-bottom: 1px solid gray;flex-grow: 1;}#sk-container-id-1 div.sk-label:hover label.sk-toggleable__label {background-color: #d4ebff;}#sk-container-id-1 div.sk-serial::before {content: \"\";position: absolute;border-left: 1px solid gray;box-sizing: border-box;top: 0;bottom: 0;left: 50%;z-index: 0;}#sk-container-id-1 div.sk-serial {display: flex;flex-direction: column;align-items: center;background-color: white;padding-right: 0.2em;padding-left: 0.2em;position: relative;}#sk-container-id-1 div.sk-item {position: relative;z-index: 1;}#sk-container-id-1 div.sk-parallel {display: flex;align-items: stretch;justify-content: center;background-color: white;position: relative;}#sk-container-id-1 div.sk-item::before, #sk-container-id-1 div.sk-parallel-item::before {content: \"\";position: absolute;border-left: 1px solid gray;box-sizing: border-box;top: 0;bottom: 0;left: 50%;z-index: -1;}#sk-container-id-1 div.sk-parallel-item {display: flex;flex-direction: column;z-index: 1;position: relative;background-color: white;}#sk-container-id-1 div.sk-parallel-item:first-child::after {align-self: flex-end;width: 50%;}#sk-container-id-1 div.sk-parallel-item:last-child::after {align-self: flex-start;width: 50%;}#sk-container-id-1 div.sk-parallel-item:only-child::after {width: 0;}#sk-container-id-1 div.sk-dashed-wrapped {border: 1px dashed gray;margin: 0 0.4em 0.5em 0.4em;box-sizing: border-box;padding-bottom: 0.4em;background-color: white;}#sk-container-id-1 div.sk-label label {font-family: monospace;font-weight: bold;display: inline-block;line-height: 1.2em;}#sk-container-id-1 div.sk-label-container {text-align: center;}#sk-container-id-1 div.sk-container {/* jupyter's `normalize.less` sets `[hidden] { display: none; }` but bootstrap.min.css set `[hidden] { display: none !important; }` so we also need the `!important` here to be able to override the default hidden behavior on the sphinx rendered scikit-learn.org. See: https://github.com/scikit-learn/scikit-learn/issues/21755 */display: inline-block !important;position: relative;}#sk-container-id-1 div.sk-text-repr-fallback {display: none;}</style><div id=\"sk-container-id-1\" class=\"sk-top-container\"><div class=\"sk-text-repr-fallback\"><pre>KNeighborsClassifier()</pre><b>In a Jupyter environment, please rerun this cell to show the HTML representation or trust the notebook. <br />On GitHub, the HTML representation is unable to render, please try loading this page with nbviewer.org.</b></div><div class=\"sk-container\" hidden><div class=\"sk-item\"><div class=\"sk-estimator sk-toggleable\"><input class=\"sk-toggleable__control sk-hidden--visually\" id=\"sk-estimator-id-1\" type=\"checkbox\" checked><label for=\"sk-estimator-id-1\" class=\"sk-toggleable__label sk-toggleable__label-arrow\">KNeighborsClassifier</label><div class=\"sk-toggleable__content\"><pre>KNeighborsClassifier()</pre></div></div></div></div></div>"
      ],
      "text/plain": [
       "KNeighborsClassifier()"
      ]
     },
     "execution_count": 18,
     "metadata": {},
     "output_type": "execute_result"
    }
   ],
   "source": [
    "#using KNeighborsClassifier \n",
    "from sklearn.neighbors import KNeighborsClassifier\n",
    "classifier = KNeighborsClassifier(n_neighbors=5,metric = 'minkowski', p=2)\n",
    "classifier.fit(X_train_s,y_train)"
   ]
  },
  {
   "cell_type": "code",
   "execution_count": 19,
   "metadata": {},
   "outputs": [
    {
     "name": "stdout",
     "output_type": "stream",
     "text": [
      "[0 0 0 0 0 0 0 0 0 0 0 1 0 0 0 0 0 1 0 0 0 0 0 0 0 0 0 0 0 0 0 0 0 0 0 0 0\n",
      " 0 0 0 0 0 0 0 0 0 0 0 1 0 0 0 0 0 1 0 0 0 0 0 0 1 0 0 0 0 0 0 0 0 0 0 0 0\n",
      " 0 0 0 0 0 0 0 1 0 0 0 0 0 0 0 0 0 0 1 0 0 0 0 0 0 0 0 1 0 0 0 0 0 1 0 0 0\n",
      " 0 0 0 0 0 0 0 0 0 0 0 0 0 0 0 0 0 0 0 0 0 0 0 0 0 0 0 0 0 0 0 0 0 0 0 0 0\n",
      " 0 0 1 0 0 1 0 0 0 0 0 1 0 0 0 0 0 1 1 0 0 0 0 0 0 0 0 0 0 0 0 0 0 0 0 0 0\n",
      " 0 0 0 0 0 0 1 0 0 0 0 0 0 0 0 0 0 0 0 0 0 0 0 0 0 0 0 0 0 0 0 0 0 0 0 0 0\n",
      " 0 0 0 0 0 0 0 0 0 0 0 0 0 0 0 0 0 0 0 0 0 0 0 0 0 0 0 0 0 0 0 0 0 0 0 0 0\n",
      " 0 0 0 0 0 0 1 0 0 0 0 0 0 0 0 0 0 0 0 0 0 0 0 0 0 0 0 0 0 0 0 0 0 0 1 0 0\n",
      " 0 0 0 0 0 0 0 0 0 0 0 0 0 0 0 0 0 0 0 0 0 0 0 0 0 0 0 0 0 0 0 0 0 0 0 1 0\n",
      " 0 0 0 0 0 0 0 0 0 0 0 0 0 0 0 0 0 0 0 0 0 1 1 0 1 0 0 0 0 0 1 0 0 0 0 0 0\n",
      " 0 0 0 0 0 1 0 0 0 0 0 0 0 0 0 0 0 0 1 0 1 0 0 0 0 0 0 0 0 0 0 0 0 0 0 0 0\n",
      " 0 0 0 0 0 0 0 0 0 0 0 0 0 0 0 0 1 0 1 0 0 0 0 0 0 0 0 0 0 0 0 0 0 0 0 0 0\n",
      " 0 0 0 0 1 0 0 0 1 0 0 0 0 0 0 0 0 0 0 0 0 0 1 0 0 0 0 0 0 0 0 0 0 0 0 0 0\n",
      " 0 0 0 0 0 0 0 0 0 0 0 0 0 0 0 0 0 0 0 0 0 0 0 0 0 0 1 0 0 0 0 1 0 0 0 0 0\n",
      " 0 0 0 0 0 0 0 0 0 0 0 0 0 0 0 0 0 0 1 0 0 0 0 0 0 0 0 0 0 0 0 0 0 0 0 0 0\n",
      " 0 0 0 1 0 0 0 0 0 0 0 0 0 0 1 0 0 0 0 0 0 0 0 0 1 0 0 0 0 0 0 0 0 0 0 0 0\n",
      " 0 0 1 0 0 0 0 1 0 0 0 0 0 0 0 0 0 0 0 0 0]\n"
     ]
    }
   ],
   "source": [
    "#making a prediction\n",
    "y_pred=classifier.predict(X_test_s)\n",
    "print(y_pred)"
   ]
  },
  {
   "cell_type": "code",
   "execution_count": 20,
   "metadata": {},
   "outputs": [
    {
     "name": "stdout",
     "output_type": "stream",
     "text": [
      "1386    0\n",
      "386     0\n",
      "1449    0\n",
      "721     0\n",
      "1474    0\n",
      "       ..\n",
      "1184    0\n",
      "319     0\n",
      "184     1\n",
      "898     0\n",
      "1433    0\n",
      "Name: verification_result, Length: 613, dtype: int64\n"
     ]
    }
   ],
   "source": [
    "print(y_test)"
   ]
  },
  {
   "cell_type": "code",
   "execution_count": 43,
   "metadata": {},
   "outputs": [
    {
     "name": "stdout",
     "output_type": "stream",
     "text": [
      "accuracy:0.91\n",
      "\n",
      "\n",
      "Confusion Matrix:\n",
      "[[342  15]\n",
      " [ 23  29]] \n",
      "\n",
      "\n",
      "---------------------------------------------\n",
      "Classification Report:\n",
      "\n",
      "              precision    recall  f1-score   support\n",
      "\n",
      "           0       0.94      0.96      0.95       357\n",
      "           1       0.66      0.56      0.60        52\n",
      "\n",
      "    accuracy                           0.91       409\n",
      "   macro avg       0.80      0.76      0.78       409\n",
      "weighted avg       0.90      0.91      0.90       409\n",
      "\n"
     ]
    }
   ],
   "source": [
    "from sklearn import metrics\n",
    "acc = metrics.accuracy_score(y_test,y_pred)\n",
    "print('accuracy:%.2f\\n\\n'%(acc))\n",
    "cm = metrics.confusion_matrix(y_test,y_pred)\n",
    "print('Confusion Matrix:')\n",
    "print(cm,'\\n\\n')\n",
    "print('---------------------------------------------')\n",
    "result = metrics.classification_report(y_test,y_pred)\n",
    "print('Classification Report:\\n')\n",
    "print(result)"
   ]
  },
  {
   "cell_type": "code",
   "execution_count": 39,
   "metadata": {},
   "outputs": [],
   "source": [
    "#printing the precision and recalls of the classifier\n",
    "from sklearn.metrics import precision_recall_curve\n",
    "precision,recall,thresholds = precision_recall_curve(y_test,y_pred)"
   ]
  },
  {
   "cell_type": "code",
   "execution_count": 40,
   "metadata": {},
   "outputs": [
    {
     "data": {
      "text/plain": [
       "array([0.12713936, 0.65909091, 1.        ])"
      ]
     },
     "execution_count": 40,
     "metadata": {},
     "output_type": "execute_result"
    }
   ],
   "source": [
    "precision"
   ]
  },
  {
   "cell_type": "code",
   "execution_count": 41,
   "metadata": {},
   "outputs": [
    {
     "data": {
      "text/plain": [
       "array([1.        , 0.55769231, 0.        ])"
      ]
     },
     "execution_count": 41,
     "metadata": {},
     "output_type": "execute_result"
    }
   ],
   "source": [
    "recall"
   ]
  },
  {
   "cell_type": "code",
   "execution_count": 42,
   "metadata": {},
   "outputs": [
    {
     "data": {
      "text/plain": [
       "array([0, 1], dtype=int64)"
      ]
     },
     "execution_count": 42,
     "metadata": {},
     "output_type": "execute_result"
    }
   ],
   "source": [
    "thresholds"
   ]
  },
  {
   "cell_type": "code",
   "execution_count": 44,
   "metadata": {},
   "outputs": [
    {
     "data": {
      "image/png": "[encoded data removed]",
      "text/plain": [
       "<Figure size 432x288 with 2 Axes>"
      ]
     },
     "metadata": {
      "needs_background": "light"
     },
     "output_type": "display_data"
    }
   ],
   "source": [
    "ax = sns.heatmap(cm,cmap = 'flare', annot = True, fmt = 'd')\n",
    "\n",
    "plt.xlabel('Predicted Class',fontsize=12)\n",
    "plt.ylabel('True Class',fontsize=12)\n",
    "plt.xlabel('Confusion Matrix',fontsize=12)\n",
    "plt.show()\n",
    "        "
   ]
  },
  {
   "cell_type": "code",
   "execution_count": 23,
   "metadata": {},
   "outputs": [
    {
     "data": {
      "text/plain": [
       "0    1781\n",
       "1     262\n",
       "Name: verification_result, dtype: int64"
      ]
     },
     "execution_count": 23,
     "metadata": {},
     "output_type": "execute_result"
    }
   ],
   "source": [
    "#using Neural network classification algorithm\n",
    "#checking for class imbalance using count and snsplot\n",
    "fnd['verification_result'].value_counts()"
   ]
  },
  {
   "cell_type": "code",
   "execution_count": 24,
   "metadata": {},
   "outputs": [
    {
     "name": "stderr",
     "output_type": "stream",
     "text": [
      "e:\\Ana3\\lib\\site-packages\\seaborn\\_decorators.py:36: FutureWarning: Pass the following variable as a keyword arg: x. From version 0.12, the only valid positional argument will be `data`, and passing other arguments without an explicit keyword will result in an error or misinterpretation.\n",
      "  warnings.warn(\n"
     ]
    },
    {
     "data": {
      "text/plain": [
       "<AxesSubplot:xlabel='verification_result', ylabel='count'>"
      ]
     },
     "execution_count": 24,
     "metadata": {},
     "output_type": "execute_result"
    },
    {
     "data": {
      "image/png": "[encoded data removed]",
      "text/plain": [
       "<Figure size 432x288 with 1 Axes>"
      ]
     },
     "metadata": {
      "needs_background": "light"
     },
     "output_type": "display_data"
    }
   ],
   "source": [
    "#There was a class inbalance of 87.2% belonging to normal class, we further use snsplot to visualize it\n",
    "#There was a class inbalance of 18.8% belonging to suspect class\n",
    "sns.countplot(fnd['verification_result'])"
   ]
  },
  {
   "cell_type": "code",
   "execution_count": 46,
   "metadata": {},
   "outputs": [],
   "source": [
    "#here the data was separated into training and test data using train_test_split\n",
    "#using StandardScaler estimator to scale the mean of the data to be 0 and standard deviation to be 1.\n",
    "X1 = fnd.drop('verification_result',axis=1)\n",
    "y1 = fnd['verification_result']\n",
    "\n",
    "X_train, X_test, y_train, y_test = train_test_split(X1, y1, test_size =0.2, stratify=y, random_state=99)\n",
    "scaler = StandardScaler()\n",
    "\n",
    "X_train = scaler.fit_transform(X_train)\n",
    "X_test = scaler.transform(X_test)"
   ]
  },
  {
   "cell_type": "code",
   "execution_count": 47,
   "metadata": {},
   "outputs": [],
   "source": [
    "#using a denser layer to build and train the neural network\n",
    "model = tf.keras.models.Sequential()\n",
    "model.add(tf.keras.layers.Dense(12,activation='relu',input_shape=(8,)))\n",
    "model.add(tf.keras.layers.Dense(12,activation='relu'))\n",
    "model.add(tf.keras.layers.Dense(12,activation='relu'))\n",
    "model.add(tf.keras.layers.Dense(12,activation='relu'))\n",
    "model.add(tf.keras.layers.Dense(12,activation='relu'))\n",
    "model.add(tf.keras.layers.Dense(12,activation='relu'))\n",
    "model.add(tf.keras.layers.Dense(3,activation='softmax'))"
   ]
  },
  {
   "cell_type": "code",
   "execution_count": 48,
   "metadata": {},
   "outputs": [],
   "source": [
    "#Model compilation using optimizer and loss functions\n",
    "model.compile(optimizer='adam',\n",
    "              loss='sparse_categorical_crossentropy',metrics='accuracy')"
   ]
  },
  {
   "cell_type": "code",
   "execution_count": 49,
   "metadata": {},
   "outputs": [
    {
     "name": "stdout",
     "output_type": "stream",
     "text": [
      "Model: \"sequential_2\"\n",
      "_________________________________________________________________\n",
      " Layer (type)                Output Shape              Param #   \n",
      "=================================================================\n",
      " dense_7 (Dense)             (None, 12)                108       \n",
      "                                                                 \n",
      " dense_8 (Dense)             (None, 12)                156       \n",
      "                                                                 \n",
      " dense_9 (Dense)             (None, 12)                156       \n",
      "                                                                 \n",
      " dense_10 (Dense)            (None, 12)                156       \n",
      "                                                                 \n",
      " dense_11 (Dense)            (None, 12)                156       \n",
      "                                                                 \n",
      " dense_12 (Dense)            (None, 12)                156       \n",
      "                                                                 \n",
      " dense_13 (Dense)            (None, 3)                 39        \n",
      "                                                                 \n",
      "=================================================================\n",
      "Total params: 927\n",
      "Trainable params: 927\n",
      "Non-trainable params: 0\n",
      "_________________________________________________________________\n"
     ]
    }
   ],
   "source": [
    "model.summary()"
   ]
  },
  {
   "cell_type": "code",
   "execution_count": 50,
   "metadata": {},
   "outputs": [
    {
     "name": "stdout",
     "output_type": "stream",
     "text": [
      "Epoch 1/50\n",
      "41/41 - 2s - loss: 1.1322 - accuracy: 0.8409 - val_loss: 0.8242 - val_accuracy: 0.8838 - 2s/epoch - 48ms/step\n",
      "Epoch 2/50\n",
      "41/41 - 0s - loss: 0.8247 - accuracy: 0.8684 - val_loss: 0.4190 - val_accuracy: 0.8838 - 124ms/epoch - 3ms/step\n",
      "Epoch 3/50\n",
      "41/41 - 0s - loss: 0.5936 - accuracy: 0.8684 - val_loss: 0.3547 - val_accuracy: 0.8838 - 139ms/epoch - 3ms/step\n",
      "Epoch 4/50\n",
      "41/41 - 0s - loss: 0.5191 - accuracy: 0.8623 - val_loss: 0.3495 - val_accuracy: 0.8716 - 117ms/epoch - 3ms/step\n",
      "Epoch 5/50\n",
      "41/41 - 0s - loss: 0.4910 - accuracy: 0.8577 - val_loss: 0.3217 - val_accuracy: 0.8654 - 119ms/epoch - 3ms/step\n",
      "Epoch 6/50\n",
      "41/41 - 0s - loss: 0.4699 - accuracy: 0.8585 - val_loss: 0.3453 - val_accuracy: 0.8349 - 119ms/epoch - 3ms/step\n",
      "Epoch 7/50\n",
      "41/41 - 0s - loss: 0.4625 - accuracy: 0.8439 - val_loss: 0.3056 - val_accuracy: 0.8532 - 116ms/epoch - 3ms/step\n",
      "Epoch 8/50\n",
      "41/41 - 0s - loss: 0.4487 - accuracy: 0.8539 - val_loss: 0.3357 - val_accuracy: 0.8287 - 127ms/epoch - 3ms/step\n",
      "Epoch 9/50\n",
      "41/41 - 0s - loss: 0.4332 - accuracy: 0.8462 - val_loss: 0.2955 - val_accuracy: 0.8471 - 115ms/epoch - 3ms/step\n",
      "Epoch 10/50\n",
      "41/41 - 0s - loss: 0.4221 - accuracy: 0.8493 - val_loss: 0.2983 - val_accuracy: 0.8410 - 116ms/epoch - 3ms/step\n",
      "Epoch 11/50\n",
      "41/41 - 0s - loss: 0.4116 - accuracy: 0.8485 - val_loss: 0.2825 - val_accuracy: 0.8532 - 120ms/epoch - 3ms/step\n",
      "Epoch 12/50\n",
      "41/41 - 0s - loss: 0.4050 - accuracy: 0.8409 - val_loss: 0.2972 - val_accuracy: 0.8349 - 116ms/epoch - 3ms/step\n",
      "Epoch 13/50\n",
      "41/41 - 0s - loss: 0.3996 - accuracy: 0.8539 - val_loss: 0.2834 - val_accuracy: 0.8440 - 115ms/epoch - 3ms/step\n",
      "Epoch 14/50\n",
      "41/41 - 0s - loss: 0.3938 - accuracy: 0.8592 - val_loss: 0.2953 - val_accuracy: 0.8410 - 116ms/epoch - 3ms/step\n",
      "Epoch 15/50\n",
      "41/41 - 0s - loss: 0.3862 - accuracy: 0.8607 - val_loss: 0.2948 - val_accuracy: 0.8410 - 119ms/epoch - 3ms/step\n",
      "Epoch 16/50\n",
      "41/41 - 0s - loss: 0.3829 - accuracy: 0.8607 - val_loss: 0.2717 - val_accuracy: 0.8410 - 122ms/epoch - 3ms/step\n",
      "Epoch 17/50\n",
      "41/41 - 0s - loss: 0.3814 - accuracy: 0.8592 - val_loss: 0.2720 - val_accuracy: 0.8379 - 111ms/epoch - 3ms/step\n",
      "Epoch 18/50\n",
      "41/41 - 0s - loss: 0.3828 - accuracy: 0.8554 - val_loss: 0.2876 - val_accuracy: 0.8410 - 111ms/epoch - 3ms/step\n",
      "Epoch 19/50\n",
      "41/41 - 0s - loss: 0.3708 - accuracy: 0.8653 - val_loss: 0.2754 - val_accuracy: 0.8440 - 115ms/epoch - 3ms/step\n",
      "Epoch 20/50\n",
      "41/41 - 0s - loss: 0.3655 - accuracy: 0.8692 - val_loss: 0.2753 - val_accuracy: 0.8440 - 115ms/epoch - 3ms/step\n",
      "Epoch 21/50\n",
      "41/41 - 0s - loss: 0.3624 - accuracy: 0.8653 - val_loss: 0.2692 - val_accuracy: 0.8379 - 118ms/epoch - 3ms/step\n",
      "Epoch 22/50\n",
      "41/41 - 0s - loss: 0.3593 - accuracy: 0.8669 - val_loss: 0.2667 - val_accuracy: 0.8563 - 112ms/epoch - 3ms/step\n",
      "Epoch 23/50\n",
      "41/41 - 0s - loss: 0.3467 - accuracy: 0.8715 - val_loss: 0.2647 - val_accuracy: 0.8563 - 115ms/epoch - 3ms/step\n",
      "Epoch 24/50\n",
      "41/41 - 0s - loss: 0.3508 - accuracy: 0.8753 - val_loss: 0.2706 - val_accuracy: 0.8532 - 118ms/epoch - 3ms/step\n",
      "Epoch 25/50\n",
      "41/41 - 0s - loss: 0.3400 - accuracy: 0.8776 - val_loss: 0.2594 - val_accuracy: 0.8654 - 124ms/epoch - 3ms/step\n",
      "Epoch 26/50\n",
      "41/41 - 0s - loss: 0.3421 - accuracy: 0.8738 - val_loss: 0.2659 - val_accuracy: 0.8654 - 138ms/epoch - 3ms/step\n",
      "Epoch 27/50\n",
      "41/41 - 0s - loss: 0.3321 - accuracy: 0.8791 - val_loss: 0.2664 - val_accuracy: 0.8716 - 127ms/epoch - 3ms/step\n",
      "Epoch 28/50\n",
      "41/41 - 0s - loss: 0.3309 - accuracy: 0.8959 - val_loss: 0.2811 - val_accuracy: 0.8440 - 103ms/epoch - 3ms/step\n",
      "Epoch 29/50\n",
      "41/41 - 0s - loss: 0.3397 - accuracy: 0.8783 - val_loss: 0.3010 - val_accuracy: 0.8318 - 109ms/epoch - 3ms/step\n",
      "Epoch 30/50\n",
      "41/41 - 0s - loss: 0.3245 - accuracy: 0.8761 - val_loss: 0.2536 - val_accuracy: 0.9021 - 112ms/epoch - 3ms/step\n",
      "Epoch 31/50\n",
      "41/41 - 0s - loss: 0.3152 - accuracy: 0.8959 - val_loss: 0.2520 - val_accuracy: 0.9021 - 112ms/epoch - 3ms/step\n",
      "Epoch 32/50\n",
      "41/41 - 0s - loss: 0.3114 - accuracy: 0.8944 - val_loss: 0.2415 - val_accuracy: 0.9113 - 118ms/epoch - 3ms/step\n",
      "Epoch 33/50\n",
      "41/41 - 0s - loss: 0.3103 - accuracy: 0.8990 - val_loss: 0.2497 - val_accuracy: 0.8930 - 132ms/epoch - 3ms/step\n",
      "Epoch 34/50\n",
      "41/41 - 0s - loss: 0.3020 - accuracy: 0.9074 - val_loss: 0.2478 - val_accuracy: 0.8807 - 111ms/epoch - 3ms/step\n",
      "Epoch 35/50\n",
      "41/41 - 0s - loss: 0.3013 - accuracy: 0.8990 - val_loss: 0.2509 - val_accuracy: 0.8960 - 102ms/epoch - 2ms/step\n",
      "Epoch 36/50\n",
      "41/41 - 0s - loss: 0.2969 - accuracy: 0.9074 - val_loss: 0.2466 - val_accuracy: 0.8960 - 105ms/epoch - 3ms/step\n",
      "Epoch 37/50\n",
      "41/41 - 0s - loss: 0.2898 - accuracy: 0.9059 - val_loss: 0.2465 - val_accuracy: 0.8960 - 105ms/epoch - 3ms/step\n",
      "Epoch 38/50\n",
      "41/41 - 0s - loss: 0.2825 - accuracy: 0.9082 - val_loss: 0.2357 - val_accuracy: 0.9144 - 112ms/epoch - 3ms/step\n",
      "Epoch 39/50\n",
      "41/41 - 0s - loss: 0.2786 - accuracy: 0.9197 - val_loss: 0.2498 - val_accuracy: 0.8746 - 118ms/epoch - 3ms/step\n",
      "Epoch 40/50\n",
      "41/41 - 0s - loss: 0.2828 - accuracy: 0.9097 - val_loss: 0.2264 - val_accuracy: 0.9205 - 122ms/epoch - 3ms/step\n",
      "Epoch 41/50\n",
      "41/41 - 0s - loss: 0.2793 - accuracy: 0.9135 - val_loss: 0.2344 - val_accuracy: 0.9174 - 120ms/epoch - 3ms/step\n",
      "Epoch 42/50\n",
      "41/41 - 0s - loss: 0.2910 - accuracy: 0.8959 - val_loss: 0.2618 - val_accuracy: 0.8746 - 125ms/epoch - 3ms/step\n",
      "Epoch 43/50\n",
      "41/41 - 0s - loss: 0.2704 - accuracy: 0.9128 - val_loss: 0.2389 - val_accuracy: 0.9113 - 127ms/epoch - 3ms/step\n",
      "Epoch 44/50\n",
      "41/41 - 0s - loss: 0.2620 - accuracy: 0.9243 - val_loss: 0.2222 - val_accuracy: 0.9174 - 124ms/epoch - 3ms/step\n",
      "Epoch 45/50\n",
      "41/41 - 0s - loss: 0.2597 - accuracy: 0.9151 - val_loss: 0.2393 - val_accuracy: 0.8930 - 119ms/epoch - 3ms/step\n",
      "Epoch 46/50\n",
      "41/41 - 0s - loss: 0.2631 - accuracy: 0.9212 - val_loss: 0.2287 - val_accuracy: 0.9205 - 111ms/epoch - 3ms/step\n",
      "Epoch 47/50\n",
      "41/41 - 0s - loss: 0.2601 - accuracy: 0.9212 - val_loss: 0.2292 - val_accuracy: 0.9205 - 130ms/epoch - 3ms/step\n",
      "Epoch 48/50\n",
      "41/41 - 0s - loss: 0.2530 - accuracy: 0.9258 - val_loss: 0.2281 - val_accuracy: 0.8960 - 109ms/epoch - 3ms/step\n",
      "Epoch 49/50\n",
      "41/41 - 0s - loss: 0.2412 - accuracy: 0.9258 - val_loss: 0.2349 - val_accuracy: 0.9205 - 115ms/epoch - 3ms/step\n",
      "Epoch 50/50\n",
      "41/41 - 0s - loss: 0.2420 - accuracy: 0.9250 - val_loss: 0.2283 - val_accuracy: 0.9113 - 114ms/epoch - 3ms/step\n"
     ]
    }
   ],
   "source": [
    "##training by fitting in model for transformation\n",
    "#using the inverse proportion of the observations\n",
    "class_weights = {0:1, 1:2}\n",
    "history = model.fit(X_train, y_train, \\\n",
    "    batch_size = 0, epochs= 50, \\\n",
    "        verbose=2, class_weight=class_weights, \\\n",
    "            validation_split=0.2)"
   ]
  },
  {
   "cell_type": "code",
   "execution_count": 65,
   "metadata": {},
   "outputs": [
    {
     "data": {
      "text/plain": [
       "<matplotlib.legend.Legend at 0x23b423a4580>"
      ]
     },
     "execution_count": 65,
     "metadata": {},
     "output_type": "execute_result"
    },
    {
     "data": {
      "image/png": "[encoded data removed]",
      "text/plain": [
       "<Figure size 432x288 with 1 Axes>"
      ]
     },
     "metadata": {
      "needs_background": "light"
     },
     "output_type": "display_data"
    }
   ],
   "source": [
    "#Neutral network evaluation and plotting\n",
    "accuracy = history.history['accuracy']\n",
    "validation_accuracy = history.history['val_accuracy']\n",
    "plt.plot(accuracy, label='Training Set Accuracy')\n",
    "plt.plot(validation_accuracy, label='Validation Set Accuracy')\n",
    "plt.ylabel('Accuracy')\n",
    "plt.ylim([min(plt.ylim()),1])\n",
    "plt.title('Training and Validation Accuracy Across Epochs')\n",
    "plt.legend()"
   ]
  },
  {
   "cell_type": "code",
   "execution_count": 66,
   "metadata": {},
   "outputs": [
    {
     "data": {
      "text/plain": [
       "<matplotlib.legend.Legend at 0x23b425697f0>"
      ]
     },
     "execution_count": 66,
     "metadata": {},
     "output_type": "execute_result"
    },
    {
     "data": {
      "image/png": "[encoded data removed]",
      "text/plain": [
       "<Figure size 432x288 with 1 Axes>"
      ]
     },
     "metadata": {
      "needs_background": "light"
     },
     "output_type": "display_data"
    }
   ],
   "source": [
    "#plot for training and validation loss\n",
    "loss = history.history['loss']\n",
    "validation_loss = history.history['val_loss']\n",
    "plt.plot(loss, label='Training Set Loss')\n",
    "plt.plot(validation_loss, label='Validation Set Loss')\n",
    "plt.ylabel('Loss')\n",
    "plt.title('Training and Validation Accuracy Across Epochs')\n",
    "plt.legend()"
   ]
  },
  {
   "cell_type": "code",
   "execution_count": 60,
   "metadata": {},
   "outputs": [],
   "source": [
    "from sklearn.metrics import confusion_matrix, classification_report"
   ]
  },
  {
   "cell_type": "code",
   "execution_count": 61,
   "metadata": {},
   "outputs": [
    {
     "name": "stdout",
     "output_type": "stream",
     "text": [
      "13/13 [==============================] - 0s 1ms/step\n"
     ]
    }
   ],
   "source": [
    "#making a prediction\n",
    "y_pred = model.predict(X_test)\n",
    "y_pred = y_pred.argmax(axis=1)"
   ]
  },
  {
   "cell_type": "code",
   "execution_count": 62,
   "metadata": {},
   "outputs": [
    {
     "data": {
      "image/png": "[encoded data removed]",
      "text/plain": [
       "<Figure size 432x288 with 2 Axes>"
      ]
     },
     "metadata": {
      "needs_background": "light"
     },
     "output_type": "display_data"
    }
   ],
   "source": [
    "#visualizing result\n",
    "confusion_matrix = confusion_matrix(y_test,y_pred)\n",
    "ax = sns.heatmap(confusion_matrix, cmap='flare',annot=True, fmt='d')\n",
    "plt.xlabel(\"Predicted Class\",fontsize=12)\n",
    "plt.ylabel(\"True Class\",fontsize=12)\n",
    "plt.title(\"Confusion Matrix\",fontsize=12)\n",
    "plt.show()"
   ]
  },
  {
   "cell_type": "code",
   "execution_count": 63,
   "metadata": {},
   "outputs": [
    {
     "name": "stdout",
     "output_type": "stream",
     "text": [
      "              precision    recall  f1-score   support\n",
      "\n",
      "           0       0.94      0.97      0.95       357\n",
      "           1       0.72      0.56      0.63        52\n",
      "\n",
      "    accuracy                           0.92       409\n",
      "   macro avg       0.83      0.76      0.79       409\n",
      "weighted avg       0.91      0.92      0.91       409\n",
      "\n"
     ]
    }
   ],
   "source": [
    "#printing the model summary of the result\n",
    "print(classification_report(y_test,y_pred))"
   ]
  }
 ],
 "metadata": {
  "kernelspec": {
   "display_name": "Python 3.9.12 ('base')",
   "language": "python",
   "name": "python3"
  },
  "language_info": {
   "codemirror_mode": {
    "name": "ipython",
    "version": 3
   },
   "file_extension": ".py",
   "mimetype": "text/x-python",
   "name": "python",
   "nbconvert_exporter": "python",
   "pygments_lexer": "ipython3",
   "version": "3.9.12"
  },
  "orig_nbformat": 4,
  "vscode": {
   "interpreter": {
    "hash": "f87dae2827508e516120f44c24e8e0ebeec5325781a56c89f2ad4632e35021f8"
   }
  }
 },
 "nbformat": 4,
 "nbformat_minor": 2
}
